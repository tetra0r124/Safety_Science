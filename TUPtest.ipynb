{
  "nbformat": 4,
  "nbformat_minor": 0,
  "metadata": {
    "colab": {
      "name": "Untitled1.ipynb",
      "version": "0.3.2",
      "provenance": [],
      "include_colab_link": true
    },
    "kernelspec": {
      "name": "python3",
      "display_name": "Python 3"
    },
    "accelerator": "TPU"
  },
  "cells": [
    {
      "cell_type": "markdown",
      "metadata": {
        "id": "view-in-github",
        "colab_type": "text"
      },
      "source": [
        "<a href=\"https://colab.research.google.com/github/tetrar124/Safety_Science/blob/master/TUPtest.ipynb\" target=\"_parent\"><img src=\"https://colab.research.google.com/assets/colab-badge.svg\" alt=\"Open In Colab\"/></a>"
      ]
    },
    {
      "cell_type": "code",
      "metadata": {
        "id": "9pv1ZZ94xlcZ",
        "colab_type": "code",
        "colab": {
          "base_uri": "https://localhost:8080/",
          "height": 374
        },
        "outputId": "45932571-5115-4675-9db6-660c8c10cf5d"
      },
      "source": [
        "%pip install tensorflow==1.13.1\n",
        "\n",
        "from tensorflow.keras.callbacks import History\n",
        "from google.colab import drive\n",
        "drive.mount('/content/drive')\n",
        "%cd /content/drive/My\\ Drive/colab/\n",
        "import os\n",
        "#os.chdir(r'//drive/My Drive/Data/Meram Chronic Data')\n",
        "import numpy as np\n",
        "import pandas as pd"
      ],
      "execution_count": 6,
      "outputs": [
        {
          "output_type": "stream",
          "text": [
            "Requirement already satisfied: tensorflow==1.13.1 in /usr/local/lib/python3.6/dist-packages (1.13.1)\n",
            "Requirement already satisfied: keras-preprocessing>=1.0.5 in /usr/local/lib/python3.6/dist-packages (from tensorflow==1.13.1) (1.1.0)\n",
            "Requirement already satisfied: tensorflow-estimator<1.14.0rc0,>=1.13.0 in /usr/local/lib/python3.6/dist-packages (from tensorflow==1.13.1) (1.13.0)\n",
            "Requirement already satisfied: absl-py>=0.1.6 in /usr/local/lib/python3.6/dist-packages (from tensorflow==1.13.1) (0.7.1)\n",
            "Requirement already satisfied: grpcio>=1.8.6 in /usr/local/lib/python3.6/dist-packages (from tensorflow==1.13.1) (1.15.0)\n",
            "Requirement already satisfied: astor>=0.6.0 in /usr/local/lib/python3.6/dist-packages (from tensorflow==1.13.1) (0.8.0)\n",
            "Requirement already satisfied: six>=1.10.0 in /usr/local/lib/python3.6/dist-packages (from tensorflow==1.13.1) (1.12.0)\n",
            "Requirement already satisfied: numpy>=1.13.3 in /usr/local/lib/python3.6/dist-packages (from tensorflow==1.13.1) (1.16.4)\n",
            "Requirement already satisfied: keras-applications>=1.0.6 in /usr/local/lib/python3.6/dist-packages (from tensorflow==1.13.1) (1.0.8)\n",
            "Requirement already satisfied: gast>=0.2.0 in /usr/local/lib/python3.6/dist-packages (from tensorflow==1.13.1) (0.2.2)\n",
            "Requirement already satisfied: tensorboard<1.14.0,>=1.13.0 in /usr/local/lib/python3.6/dist-packages (from tensorflow==1.13.1) (1.13.1)\n",
            "Requirement already satisfied: protobuf>=3.6.1 in /usr/local/lib/python3.6/dist-packages (from tensorflow==1.13.1) (3.7.1)\n",
            "Requirement already satisfied: wheel>=0.26 in /usr/local/lib/python3.6/dist-packages (from tensorflow==1.13.1) (0.33.6)\n",
            "Requirement already satisfied: termcolor>=1.1.0 in /usr/local/lib/python3.6/dist-packages (from tensorflow==1.13.1) (1.1.0)\n",
            "Requirement already satisfied: mock>=2.0.0 in /usr/local/lib/python3.6/dist-packages (from tensorflow-estimator<1.14.0rc0,>=1.13.0->tensorflow==1.13.1) (3.0.5)\n",
            "Requirement already satisfied: h5py in /usr/local/lib/python3.6/dist-packages (from keras-applications>=1.0.6->tensorflow==1.13.1) (2.8.0)\n",
            "Requirement already satisfied: markdown>=2.6.8 in /usr/local/lib/python3.6/dist-packages (from tensorboard<1.14.0,>=1.13.0->tensorflow==1.13.1) (3.1.1)\n",
            "Requirement already satisfied: werkzeug>=0.11.15 in /usr/local/lib/python3.6/dist-packages (from tensorboard<1.14.0,>=1.13.0->tensorflow==1.13.1) (0.15.5)\n",
            "Requirement already satisfied: setuptools in /usr/local/lib/python3.6/dist-packages (from protobuf>=3.6.1->tensorflow==1.13.1) (41.2.0)\n",
            "Drive already mounted at /content/drive; to attempt to forcibly remount, call drive.mount(\"/content/drive\", force_remount=True).\n",
            "/content/drive/My Drive/colab\n"
          ],
          "name": "stdout"
        }
      ]
    },
    {
      "cell_type": "code",
      "metadata": {
        "id": "JkJsTfD3ymn7",
        "colab_type": "code",
        "colab": {}
      },
      "source": [
        "ejectCAS = ['10124-36-4', '108-88-3', '111991-09-4', '116-29-0', '120-12-7', '126833-17-8', '13171-21-6',\n",
        "                    '1333-82-0', '137-30-4', '148-79-8', '1582-09-8', '1610-18-0', '2058-46-0', '2104-64-5',\n",
        "                    '21725-46-2',\n",
        "                    '2303-17-5', '25311-71-1', '25812-30-0', '298-00-0', '298-04-4', '314-40-9', '330-54-1',\n",
        "                    '4170-30-3',\n",
        "                    '4717-38-8', '50-00-0', '52645-53-1', '55406-53-6', '56-35-9', '56-38-2', '60207-90-1', '6051-87-2',\n",
        "                    '62-53-3', '6317-18-6', '69-72-7', '7440-02-0', '7447-40-7', '7722-84-1', '7733-02-0', '7758-94-3',\n",
        "                    '80844-07-1', '82657-04-3', '84852-15-3', '86-73-7', '9016-45-9', '99-35-4']\n",
        "\n",
        "df =pd.read_csv('fishMorganMACCS.csv')\n",
        "#df2=pd.read_csv('chronicMACCSKeys_tanimoto.csv')\n",
        "#df2 = df2.drop(ejectCAS,axis=1).set_index('CAS').dropna(how='all', axis=1)\n",
        "baseDf = df\n",
        "extractDf =  df['CAS'].isin(ejectCAS)\n",
        "df = df[~df['CAS'].isin(ejectCAS)]\n",
        "#df = df.set_index('CAS')\n",
        "#df = pd.concat([df,df2],axis=1, join_axes=[df.index]).reset_index()\n",
        "y = df['logTox']\n",
        "#dropList = ['CAS','toxValue','logTox','HDonor', 'HAcceptors', 'AromaticHeterocycles', 'AromaticCarbocycles', 'FractionCSP3']\n",
        "dropList = ['CAS','toxValue','logTox']\n",
        "X = df.drop(columns=dropList)\n",
        "#Normalize\n",
        "def normalize(X):\n",
        "    changeList = []\n",
        "    for i,name in enumerate(X.columns):\n",
        "        if i <679:\n",
        "            changeList.append((0,1))\n",
        "        elif i > 692:\n",
        "            changeList.append((0,1))\n",
        "        else:\n",
        "            #try:\n",
        "            #name = float(name)\n",
        "            #except:\n",
        "            std =X[name].std()\n",
        "            mean = X[name].mean()\n",
        "            if std==0:\n",
        "              X[name] = X[name]\n",
        "            else:\n",
        "              X[name] = X[name].apply(lambda x: ((x - mean) * 1 / std + 0))\n",
        "            changeList.append((mean, std))\n",
        "    return X, changeList\n",
        "X2,_ = normalize(X)\n",
        "X2 = np.array(X)\n",
        "y2 = np.array(y)"
      ],
      "execution_count": 0,
      "outputs": []
    },
    {
      "cell_type": "code",
      "metadata": {
        "id": "jbIR7bZLy-nD",
        "colab_type": "code",
        "colab": {
          "base_uri": "https://localhost:8080/",
          "height": 88
        },
        "outputId": "60722afb-d3e5-4d0a-ce80-9f85da5bca58"
      },
      "source": [
        "from tensorflow.contrib.tpu.python.tpu import keras_support\n",
        "from tensorflow.keras.layers import Input, Dense, Flatten\n",
        "from tensorflow.keras.datasets import mnist\n",
        "from tensorflow.keras.optimizers import Adam\n",
        "from tensorflow.keras.models import Model\n",
        "from tensorflow.keras.utils import to_categorical\n",
        "import tensorflow as tf\n",
        "import time\n",
        "import pandas as pd\n",
        "\n",
        "import numpy as np\n",
        "import itertools\n",
        "import pandas as pd\n",
        "\n",
        "from lightgbm import LGBMRegressor\n",
        "#from fastFM import sgd,als\n",
        "\n",
        "from sklearn.linear_model import Ridge\n",
        "from sklearn.svm import SVR\n",
        "from sklearn.ensemble import ExtraTreesRegressor\n",
        "from sklearn.cross_decomposition import PLSRegression\n",
        "\n",
        "from sklearn.model_selection import KFold, train_test_split\n",
        "from sklearn.model_selection import GridSearchCV,  cross_validate, StratifiedKFold\n",
        "from sklearn.pipeline import make_pipeline\n",
        "\n",
        "from mlxtend.regressor import StackingRegressor\n",
        "from mlxtend.feature_selection import ColumnSelector\n",
        "#from rgf.sklearn import RGFRegressor\n",
        "import xgboost\n",
        "from sklearn.linear_model import LinearRegression, SGDRegressor\n",
        "from sklearn.neighbors import KNeighborsRegressor\n",
        "from sklearn.ensemble import RandomForestRegressor\n",
        "\n",
        "from sklearn.datasets import load_boston\n",
        "\n",
        "import tensorflow as tf\n",
        "import os\n",
        "from PIL import Image\n",
        "from tensorflow.python.keras.preprocessing.image import ImageDataGenerator\n",
        "from tensorflow.python.keras.preprocessing.image import array_to_img\n",
        "from tensorflow.python.keras.preprocessing.image import img_to_array\n",
        "from tensorflow.python.keras.preprocessing.image import load_img\n",
        "from tensorflow.python.keras.layers import Conv1D, MaxPooling1D,BatchNormalization,concatenate,add,MaxPooling1D,BatchNormalization\n",
        "from tensorflow.python.keras.layers import Activation, Dropout, Flatten, Input, Dense, LSTM,CuDNNLSTM,LSTM,Concatenate,Add,Embedding\n",
        "from tensorflow.python.keras.models import Model\n",
        "from tensorflow.python.keras.callbacks import TensorBoard, EarlyStopping\n",
        "from tensorflow.python.keras import applications\n",
        "from keras.wrappers.scikit_learn import KerasRegressor\n",
        "from sklearn.metrics import accuracy_score\n",
        "from tensorflow.python.keras import regularizers\n",
        "\n",
        "from sklearn.base import BaseEstimator, TransformerMixin,RegressorMixin\n",
        "from sklearn.pipeline import make_pipeline\n",
        "\n",
        "import scipy as sp\n",
        "from sklearn.preprocessing import normalize\n",
        "from sklearn.datasets import load_boston\n",
        "from sklearn.decomposition import PCA\n",
        "from sklearn.metrics import mean_squared_error"
      ],
      "execution_count": 11,
      "outputs": [
        {
          "output_type": "stream",
          "text": [
            "/usr/local/lib/python3.6/dist-packages/sklearn/externals/joblib/__init__.py:15: DeprecationWarning: sklearn.externals.joblib is deprecated in 0.21 and will be removed in 0.23. Please import this functionality directly from joblib, which can be installed with: pip install joblib. If this warning is raised when loading pickled models, you may need to re-serialize those models with scikit-learn 0.21+.\n",
            "  warnings.warn(msg, category=DeprecationWarning)\n",
            "Using TensorFlow backend.\n"
          ],
          "name": "stderr"
        }
      ]
    },
    {
      "cell_type": "code",
      "metadata": {
        "id": "kzb37uZ9zSry",
        "colab_type": "code",
        "colab": {
          "base_uri": "https://localhost:8080/",
          "height": 88
        },
        "outputId": "fc165e00-7dcf-409e-96ab-5576a4fbb0fe"
      },
      "source": [
        "(X_train, y_train), (_, _) = mnist.load_data()\n",
        "X_train = X_train / 255.0\n",
        "y_train = to_categorical(y_train)\n",
        "\n",
        "input = Input((28,28))\n",
        "x = Flatten()(input)\n",
        "x = Dense(64, activation=\"relu\")(x)\n",
        "x = Dense(10, activation=\"softmax\")(x)\n",
        "model = Model(input, x)\n",
        "model.compile(Adam(), loss=\"categorical_crossentropy\", metrics=[\"acc\"])\n",
        "\n",
        "# history = model.fit(X_train, y_train, epochs=1, batch_size=1024)\n",
        "# print(history)\n",
        "# print(history.history)"
      ],
      "execution_count": 4,
      "outputs": [
        {
          "output_type": "stream",
          "text": [
            "WARNING:tensorflow:From /usr/local/lib/python3.6/dist-packages/tensorflow/python/ops/resource_variable_ops.py:435: colocate_with (from tensorflow.python.framework.ops) is deprecated and will be removed in a future version.\n",
            "Instructions for updating:\n",
            "Colocations handled automatically by placer.\n"
          ],
          "name": "stdout"
        }
      ]
    },
    {
      "cell_type": "code",
      "metadata": {
        "id": "oEJW-Ej87lon",
        "colab_type": "code",
        "colab": {}
      },
      "source": [
        "def CNN_model(data= X2):\n",
        "  inputs = Input(((data.shape[1],1)))\n",
        "#   print(inputs)\n",
        "  x = Conv1D(8,16,padding=\"same\", activation=\"relu\")(inputs)\n",
        "  x = Conv1D(16,32,padding=\"same\", activation=\"relu\")(x)\n",
        "  x = Conv1D(32,64,padding=\"same\", activation=\"relu\")(x)\n",
        "  x = MaxPooling1D(pool_size=2, strides=None, padding='same', data_format='channels_last')(x)\n",
        "  #x = BatchNormalization()(x)\n",
        "\n",
        "  x = Flatten()(x)\n",
        "  x = Dense(256, activation=\"relu\",kernel_regularizer=regularizers.l2(0.002))(x)\n",
        "  x = Dropout(0.5)(x)\n",
        "  x = Dense(128, activation=\"relu\",kernel_regularizer=regularizers.l1(0.002))(x)\n",
        "  x = Dropout(0.5)(x)\n",
        "  x = Dense(128, activation=\"relu\",kernel_regularizer=regularizers.l1(0.001))(x)\n",
        "  #x = BatchNormalization()(x)\n",
        "\n",
        "  predictions = Dense(1)(x)\n",
        "  model = Model(inputs=inputs, outputs=predictions)\n",
        "  model.compile(optimizer=\"adam\",loss='mean_squared_error')\n",
        "  #model.summary()\n",
        "  \n",
        "  return model"
      ],
      "execution_count": 0,
      "outputs": []
    },
    {
      "cell_type": "code",
      "metadata": {
        "id": "ZEnLIjWKzSec",
        "colab_type": "code",
        "colab": {
          "base_uri": "https://localhost:8080/",
          "height": 306
        },
        "outputId": "a084ff68-37f5-41f9-fa8b-1a8a1d7032ac"
      },
      "source": [
        "model =  CNN_model()\n",
        "tpu_grpc_url = \"grpc://\"+os.environ[\"COLAB_TPU_ADDR\"]\n",
        "tpu_cluster_resolver = tf.contrib.cluster_resolver.TPUClusterResolver(tpu_grpc_url)\n",
        "strategy = keras_support.TPUDistributionStrategy(tpu_cluster_resolver)\n",
        "model = tf.contrib.tpu.keras_to_tpu_model(model, strategy=strategy)\n",
        "from tensorflow.keras.callbacks import History\n",
        "\n",
        "cv = KFold(n_splits=10, shuffle=True, random_state=0)\n",
        "\n",
        "def calcCorr(real, pred):\n",
        "    corr = np.corrcoef(real, pred.flatten())[0, 1]\n",
        "    return corr\n",
        "def calcRMSE(real, pred):\n",
        "  RMSE = (np.sum((pred - real.tolist()) ** 2) / len(pred)) ** (1 / 2)\n",
        "  return RMSE\n",
        "for i,(train, test) in enumerate(cv.split(X2)):\n",
        "  trainX = np.expand_dims(X2[train], axis=2)\n",
        "  testX = np.expand_dims(X2[test], axis=2)\n",
        "  print(trainX.shape,y2[train].shape)\n",
        "  history = History()\n",
        "  es = EarlyStopping(monitor='val_loss', patience=50, verbose=1, mode='auto')\n",
        "\n",
        "  model.fit(trainX,y2[train], epochs=100, batch_size=1024, callbacks=[history,es],validation_data=(testX, y2[test]),metric=['mean_squared_error'])\n",
        "  print(history)\n",
        "  print(history.history)"
      ],
      "execution_count": 0,
      "outputs": [
        {
          "output_type": "stream",
          "text": [
            "INFO:tensorflow:Querying Tensorflow master (grpc://10.69.194.218:8470) for TPU system metadata.\n",
            "INFO:tensorflow:Found TPU system:\n",
            "INFO:tensorflow:*** Num TPU Cores: 8\n",
            "INFO:tensorflow:*** Num TPU Workers: 1\n",
            "INFO:tensorflow:*** Num TPU Cores Per Worker: 8\n",
            "INFO:tensorflow:*** Available Device: _DeviceAttributes(/job:worker/replica:0/task:0/device:CPU:0, CPU, -1, 6094625470408295852)\n",
            "INFO:tensorflow:*** Available Device: _DeviceAttributes(/job:worker/replica:0/task:0/device:XLA_CPU:0, XLA_CPU, 17179869184, 13812256486755107459)\n",
            "INFO:tensorflow:*** Available Device: _DeviceAttributes(/job:worker/replica:0/task:0/device:TPU:0, TPU, 17179869184, 8406601832579415794)\n",
            "INFO:tensorflow:*** Available Device: _DeviceAttributes(/job:worker/replica:0/task:0/device:TPU:1, TPU, 17179869184, 1004065896015030234)\n",
            "INFO:tensorflow:*** Available Device: _DeviceAttributes(/job:worker/replica:0/task:0/device:TPU:2, TPU, 17179869184, 6126146737264658958)\n",
            "INFO:tensorflow:*** Available Device: _DeviceAttributes(/job:worker/replica:0/task:0/device:TPU:3, TPU, 17179869184, 15747008721776041789)\n",
            "INFO:tensorflow:*** Available Device: _DeviceAttributes(/job:worker/replica:0/task:0/device:TPU:4, TPU, 17179869184, 2123552982465155806)\n",
            "INFO:tensorflow:*** Available Device: _DeviceAttributes(/job:worker/replica:0/task:0/device:TPU:5, TPU, 17179869184, 1813954145218186066)\n",
            "INFO:tensorflow:*** Available Device: _DeviceAttributes(/job:worker/replica:0/task:0/device:TPU:6, TPU, 17179869184, 2594939989757873523)\n",
            "INFO:tensorflow:*** Available Device: _DeviceAttributes(/job:worker/replica:0/task:0/device:TPU:7, TPU, 17179869184, 17021935169821819460)\n",
            "INFO:tensorflow:*** Available Device: _DeviceAttributes(/job:worker/replica:0/task:0/device:TPU_SYSTEM:0, TPU_SYSTEM, 8589934592, 8562942109353606350)\n",
            "WARNING:tensorflow:tpu_model (from tensorflow.contrib.tpu.python.tpu.keras_support) is experimental and may change or be removed at any time, and without warning.\n"
          ],
          "name": "stdout"
        }
      ]
    },
    {
      "cell_type": "code",
      "metadata": {
        "id": "-NVZNe0VKLng",
        "colab_type": "code",
        "colab": {
          "base_uri": "https://localhost:8080/",
          "height": 54
        },
        "outputId": "86f0e0f4-6edb-4f52-b192-318b76af0352"
      },
      "source": [
        "print(history.history)"
      ],
      "execution_count": 28,
      "outputs": [
        {
          "output_type": "stream",
          "text": [
            "{'loss': [0.7997977596347157, 0.7719685196137407, 0.7581331066793842, 0.7740553484436049, 0.7477255228665997, 0.7354119023567179, 0.7262272563943618, 0.733360590556747, 0.7637749835386859, 0.7441250194586728, 0.74465433151137, 0.7466241491907355, 0.7201752437755425, 0.7111752377979728, 0.7191629214451523, 0.7142495187222165, 0.7065404571190252, 0.6963046230606741, 0.6930500642191108, 0.7042077711665388, 0.7133742831152451, 0.7131790258485305, 0.7128970899657933, 0.6710902465139479, 0.6792159354507237, 0.6901233624947398, 0.7131350724648542, 0.6970869624794216, 0.6973501224239069, 0.7141127342455571, 0.6980438826356555, 0.6933444253737363, 0.7032278167451769, 0.6875871926202934, 0.7287406360184439, 0.6954431837908033, 0.6781644969518676, 0.6743428091542504, 0.6787605581819959, 0.6828178356346354, 0.7067594055690208, 0.68098198332757, 0.7030758573166346, 0.7119648858865243, 0.6878438072990167, 0.6943793200728532, 0.7060373204803974, 0.686694804074175, 0.6978471027843924, 0.6985990094124901, 0.685661186572194, 0.7018602777625524, 0.6774060638527409, 0.6828799816863108, 0.7153094768312993, 0.6853159969100073, 0.7108551698833361, 0.7038450128109293, 0.6795926849540089, 0.691276389059501, 0.6782455951160198, 0.6772406217374033, 0.6727336635095446, 0.6923780945996673, 0.7082832961931389, 0.6948918470563458, 0.7019718777721597, 0.7126299749970753, 0.7267370779393942, 0.6939592499770983, 0.7172024184565717, 0.7128087644348955, 0.7206992818466639, 0.7618496343031512, 0.7797801526274905, 0.7749654140168317, 0.7915759973551342, 0.7772049369592388, 0.8053723524058151, 0.826644792717257, 0.8136924195859789, 0.7689920299553681, 0.767535419776653, 0.7455086585058376, 0.7502253474230467, 0.7271615653253425, 0.7418638750237633, 0.7613967563115569, 0.7552638480471129, 0.776623456640725, 0.7860773394232413, 0.7378218853969929, 0.7666387082835654, 0.7442121901693758, 0.7657395252830904, 0.7429405165732277, 0.7444486915801245, 0.7486496669090987, 0.7404176461369301, 0.7397941755340414]}\n"
          ],
          "name": "stdout"
        }
      ]
    }
  ]
}